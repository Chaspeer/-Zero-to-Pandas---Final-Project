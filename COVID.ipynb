{
 "cells": [
  {
   "cell_type": "markdown",
   "metadata": {},
   "source": [
    "# COVID-19 Analysis - Argentina - 05/09/2020. (R Programming)"
   ]
  },
  {
   "cell_type": "markdown",
   "metadata": {},
   "source": [
    "### Import the necessary libraries for the analysis."
   ]
  },
  {
   "cell_type": "code",
   "execution_count": 25,
   "metadata": {},
   "outputs": [],
   "source": [
    "library(tidyverse)\n",
    "library(forcats)\n",
    "library(repr)\n",
    "library(fastDummies)\n",
    "library(caret)\n"
   ]
  },
  {
   "cell_type": "markdown",
   "metadata": {},
   "source": [
    "### Import the dataset."
   ]
  },
  {
   "cell_type": "code",
   "execution_count": 3,
   "metadata": {},
   "outputs": [],
   "source": [
    "covid <-  as.data.frame(read.csv('C:/Users/ramir/Desktop/DS/R/Covid19Casos.csv',stringsAsFactors = FALSE, encoding = 'UTF-8'))\n",
    "\n",
    "# Dataset downloaded from http://datos.salud.gob.ar/dataset/covid-19-casos-registrados-en-la-republica-argentina"
   ]
  },
  {
   "cell_type": "markdown",
   "metadata": {},
   "source": [
    "### Let's take a look at the dataset."
   ]
  },
  {
   "cell_type": "code",
   "execution_count": 5,
   "metadata": {},
   "outputs": [
    {
     "name": "stdout",
     "output_type": "stream",
     "text": [
      "Observations: 1,339,334\n",
      "Variables: 25\n",
      "$ id_evento_caso                   <int> 1000000, 1000002, 1000003, 1000005...\n",
      "$ sexo                             <chr> \"M\", \"M\", \"F\", \"F\", \"M\", \"M\", \"F\",...\n",
      "$ edad                             <int> 53, 21, 40, 58, 28, 26, 69, 73, 7,...\n",
      "$ edad_años_meses                  <chr> \"Años\", \"Años\", \"Años\", \"Años\", \"A...\n",
      "$ residencia_pais_nombre           <chr> \"Argentina\", \"Argentina\", \"Argenti...\n",
      "$ residencia_provincia_nombre      <chr> \"CABA\", \"Buenos Aires\", \"Córdoba\",...\n",
      "$ residencia_departamento_nombre   <chr> \"SIN ESPECIFICAR\", \"La Matanza\", \"...\n",
      "$ carga_provincia_nombre           <chr> \"Buenos Aires\", \"Buenos Aires\", \"C...\n",
      "$ fecha_inicio_sintomas            <chr> \"\", \"\", \"2020-05-24\", \"\", \"2020-05...\n",
      "$ fecha_apertura                   <chr> \"2020-06-01\", \"2020-06-01\", \"2020-...\n",
      "$ sepi_apertura                    <int> 23, 23, 23, 23, 23, 23, 23, 23, 23...\n",
      "$ fecha_internacion                <chr> \"\", \"\", \"\", \"\", \"\", \"\", \"\", \"\", \"\"...\n",
      "$ cuidado_intensivo                <chr> \"NO\", \"NO\", \"NO\", \"NO\", \"NO\", \"NO\"...\n",
      "$ fecha_cui_intensivo              <chr> \"\", \"\", \"\", \"\", \"\", \"\", \"\", \"\", \"\"...\n",
      "$ fallecido                        <chr> \"NO\", \"NO\", \"NO\", \"NO\", \"NO\", \"NO\"...\n",
      "$ fecha_fallecimiento              <chr> \"\", \"\", \"\", \"\", \"\", \"\", \"\", \"\", \"\"...\n",
      "$ asistencia_respiratoria_mecanica <chr> \"NO\", \"NO\", \"NO\", \"NO\", \"NO\", \"NO\"...\n",
      "$ carga_provincia_id               <int> 6, 6, 14, 50, 6, 34, 2, 6, 2, 82, ...\n",
      "$ origen_financiamiento            <chr> \"Privado\", \"Público\", \"Privado\", \"...\n",
      "$ clasificacion                    <chr> \"Caso Descartado\", \"Caso Descartad...\n",
      "$ clasificacion_resumen            <chr> \"Descartado\", \"Descartado\", \"Desca...\n",
      "$ residencia_provincia_id          <int> 2, 6, 14, 50, 6, 34, 2, 6, 2, 82, ...\n",
      "$ fecha_diagnostico                <chr> \"2020-06-09\", \"2020-06-01\", \"2020-...\n",
      "$ residencia_departamento_id       <int> 0, 427, 14, 49, 515, 35, 0, 260, 7...\n",
      "$ ultima_actualizacion             <chr> \"2020-09-04\", \"2020-09-04\", \"2020-...\n"
     ]
    }
   ],
   "source": [
    "glimpse(covid)"
   ]
  },
  {
   "cell_type": "markdown",
   "metadata": {},
   "source": [
    "### Let's see the provinces of Argentina and test types."
   ]
  },
  {
   "cell_type": "code",
   "execution_count": 6,
   "metadata": {},
   "outputs": [
    {
     "data": {
      "text/html": [
       "<ol class=list-inline>\n",
       "\t<li>'CABA'</li>\n",
       "\t<li>'Buenos Aires'</li>\n",
       "\t<li>'Córdoba'</li>\n",
       "\t<li>'Mendoza'</li>\n",
       "\t<li>'Formosa'</li>\n",
       "\t<li>'Santa Fe'</li>\n",
       "\t<li>'San Luis'</li>\n",
       "\t<li>'Entre Ríos'</li>\n",
       "\t<li>'Tucumán'</li>\n",
       "\t<li>'Chaco'</li>\n",
       "\t<li>'Corrientes'</li>\n",
       "\t<li>'Río Negro'</li>\n",
       "\t<li>'La Pampa'</li>\n",
       "\t<li>'Santa Cruz'</li>\n",
       "\t<li>'Santiago del Estero'</li>\n",
       "\t<li>'Neuquén'</li>\n",
       "\t<li>'SIN ESPECIFICAR'</li>\n",
       "\t<li>'San Juan'</li>\n",
       "\t<li>'Chubut'</li>\n",
       "\t<li>'Catamarca'</li>\n",
       "\t<li>'Tierra del Fuego'</li>\n",
       "\t<li>'Misiones'</li>\n",
       "\t<li>'Jujuy'</li>\n",
       "\t<li>'La Rioja'</li>\n",
       "\t<li>'Salta'</li>\n",
       "</ol>\n"
      ],
      "text/latex": [
       "\\begin{enumerate*}\n",
       "\\item 'CABA'\n",
       "\\item 'Buenos Aires'\n",
       "\\item 'Córdoba'\n",
       "\\item 'Mendoza'\n",
       "\\item 'Formosa'\n",
       "\\item 'Santa Fe'\n",
       "\\item 'San Luis'\n",
       "\\item 'Entre Ríos'\n",
       "\\item 'Tucumán'\n",
       "\\item 'Chaco'\n",
       "\\item 'Corrientes'\n",
       "\\item 'Río Negro'\n",
       "\\item 'La Pampa'\n",
       "\\item 'Santa Cruz'\n",
       "\\item 'Santiago del Estero'\n",
       "\\item 'Neuquén'\n",
       "\\item 'SIN ESPECIFICAR'\n",
       "\\item 'San Juan'\n",
       "\\item 'Chubut'\n",
       "\\item 'Catamarca'\n",
       "\\item 'Tierra del Fuego'\n",
       "\\item 'Misiones'\n",
       "\\item 'Jujuy'\n",
       "\\item 'La Rioja'\n",
       "\\item 'Salta'\n",
       "\\end{enumerate*}\n"
      ],
      "text/markdown": [
       "1. 'CABA'\n",
       "2. 'Buenos Aires'\n",
       "3. 'Córdoba'\n",
       "4. 'Mendoza'\n",
       "5. 'Formosa'\n",
       "6. 'Santa Fe'\n",
       "7. 'San Luis'\n",
       "8. 'Entre Ríos'\n",
       "9. 'Tucumán'\n",
       "10. 'Chaco'\n",
       "11. 'Corrientes'\n",
       "12. 'Río Negro'\n",
       "13. 'La Pampa'\n",
       "14. 'Santa Cruz'\n",
       "15. 'Santiago del Estero'\n",
       "16. 'Neuquén'\n",
       "17. 'SIN ESPECIFICAR'\n",
       "18. 'San Juan'\n",
       "19. 'Chubut'\n",
       "20. 'Catamarca'\n",
       "21. 'Tierra del Fuego'\n",
       "22. 'Misiones'\n",
       "23. 'Jujuy'\n",
       "24. 'La Rioja'\n",
       "25. 'Salta'\n",
       "\n",
       "\n"
      ],
      "text/plain": [
       " [1] \"CABA\"                \"Buenos Aires\"        \"Córdoba\"            \n",
       " [4] \"Mendoza\"             \"Formosa\"             \"Santa Fe\"           \n",
       " [7] \"San Luis\"            \"Entre Ríos\"          \"Tucumán\"            \n",
       "[10] \"Chaco\"               \"Corrientes\"          \"Río Negro\"          \n",
       "[13] \"La Pampa\"            \"Santa Cruz\"          \"Santiago del Estero\"\n",
       "[16] \"Neuquén\"             \"SIN ESPECIFICAR\"     \"San Juan\"           \n",
       "[19] \"Chubut\"              \"Catamarca\"           \"Tierra del Fuego\"   \n",
       "[22] \"Misiones\"            \"Jujuy\"               \"La Rioja\"           \n",
       "[25] \"Salta\"              "
      ]
     },
     "metadata": {},
     "output_type": "display_data"
    },
    {
     "data": {
      "text/html": [
       "<ol class=list-inline>\n",
       "\t<li>'Descartado'</li>\n",
       "\t<li>'Sospechoso'</li>\n",
       "\t<li>'Confirmado'</li>\n",
       "\t<li>'Sin Clasificar'</li>\n",
       "</ol>\n"
      ],
      "text/latex": [
       "\\begin{enumerate*}\n",
       "\\item 'Descartado'\n",
       "\\item 'Sospechoso'\n",
       "\\item 'Confirmado'\n",
       "\\item 'Sin Clasificar'\n",
       "\\end{enumerate*}\n"
      ],
      "text/markdown": [
       "1. 'Descartado'\n",
       "2. 'Sospechoso'\n",
       "3. 'Confirmado'\n",
       "4. 'Sin Clasificar'\n",
       "\n",
       "\n"
      ],
      "text/plain": [
       "[1] \"Descartado\"     \"Sospechoso\"     \"Confirmado\"     \"Sin Clasificar\""
      ]
     },
     "metadata": {},
     "output_type": "display_data"
    }
   ],
   "source": [
    "unique(covid$residencia_provincia_nombre) \n",
    "unique(covid$clasificacion_resumen) "
   ]
  },
  {
   "cell_type": "markdown",
   "metadata": {},
   "source": [
    "### We have to replace some values..."
   ]
  },
  {
   "cell_type": "code",
   "execution_count": 7,
   "metadata": {},
   "outputs": [],
   "source": [
    "covid$clasificacion_resumen[covid$clasificacion_resumen == 'Descartado'] <- 'Negative'\n",
    "covid$clasificacion_resumen[covid$clasificacion_resumen == 'Sospechoso'] <- 'Suspicious'\n",
    "covid$clasificacion_resumen[covid$clasificacion_resumen == 'Confirmado'] <- 'Confirmed'\n",
    "covid$clasificacion_resumen[covid$clasificacion_resumen == 'Sin Clasificar'] <- 'Unclassified'\n"
   ]
  },
  {
   "cell_type": "markdown",
   "metadata": {},
   "source": [
    "### ... and change the dates format."
   ]
  },
  {
   "cell_type": "code",
   "execution_count": 4,
   "metadata": {},
   "outputs": [],
   "source": [
    "covid$fecha_apertura <- as.Date(covid$fecha_apertura)\n",
    "covid$fecha_diagnostico <- as.Date(covid$fecha_diagnostico)\n",
    "covid$fecha_inicio_sintomas <- as.Date(covid$fecha_inicio_sintomas, format = \"%Y-%m-%d\")\n",
    "covid$ultima_actualizacion <- as.Date(covid$ultima_actualizacion, format = \"%Y-%m-%d\")\n"
   ]
  },
  {
   "cell_type": "markdown",
   "metadata": {},
   "source": [
    "### Now let's see the quantity of tests per province."
   ]
  },
  {
   "cell_type": "code",
   "execution_count": 10,
   "metadata": {},
   "outputs": [
    {
     "data": {
      "image/png": "[encoded data removed]",
      "text/plain": [
       "plot without title"
      ]
     },
     "metadata": {},
     "output_type": "display_data"
    }
   ],
   "source": [
    "options(repr.plot.width=8, repr.plot.height=4.8)\n",
    "\n",
    "ggplot(covid,aes(x = reorder(residencia_provincia_nombre,residencia_provincia_nombre,function(x)-length(x)),\n",
    "                             fill=factor(clasificacion_resumen))) +\n",
    "  geom_bar() +\n",
    "  scale_fill_brewer(palette = \"RdGy\")+\n",
    "  scale_y_continuous(labels = scales::comma, )+\n",
    "  coord_flip() +\n",
    "  ggtitle(\"Testing per Province\")+\n",
    "  xlab(\"Province\") +\n",
    "  ylab(\"Tests Quantity\") +\n",
    "  labs(fill = \"Status\") +\n",
    "  theme(legend.background = element_rect(fill = \"lightblue\",colour = \"grey50\",size = 1))"
   ]
  },
  {
   "cell_type": "markdown",
   "metadata": {},
   "source": [
    "### Perfect, now let's focus on the confirmed cases."
   ]
  },
  {
   "cell_type": "code",
   "execution_count": 11,
   "metadata": {},
   "outputs": [],
   "source": [
    "confirmed <- as_tibble(covid %>%\n",
    "          filter(covid[\"clasificacion_resumen\"] == \"Confirmed\") %>%\n",
    "          count(residencia_provincia_nombre, sort = TRUE ))%>%\n",
    "          rename(Quantity_of_cases = n)"
   ]
  },
  {
   "cell_type": "code",
   "execution_count": 12,
   "metadata": {},
   "outputs": [
    {
     "data": {
      "text/html": [
       "<table>\n",
       "<thead><tr><th scope=col>residencia_provincia_nombre</th><th scope=col>Quantity_of_cases</th></tr></thead>\n",
       "<tbody>\n",
       "\t<tr><td>Buenos Aires</td><td>282824      </td></tr>\n",
       "\t<tr><td>CABA        </td><td>100271      </td></tr>\n",
       "\t<tr><td>Santa Fe    </td><td> 10806      </td></tr>\n",
       "\t<tr><td>Córdoba     </td><td> 10335      </td></tr>\n",
       "\t<tr><td>Jujuy       </td><td>  9547      </td></tr>\n",
       "\t<tr><td>Mendoza     </td><td>  8798      </td></tr>\n",
       "</tbody>\n",
       "</table>\n"
      ],
      "text/latex": [
       "\\begin{tabular}{r|ll}\n",
       " residencia\\_provincia\\_nombre & Quantity\\_of\\_cases\\\\\n",
       "\\hline\n",
       "\t Buenos Aires & 282824      \\\\\n",
       "\t CABA         & 100271      \\\\\n",
       "\t Santa Fe     &  10806      \\\\\n",
       "\t Córdoba      &  10335      \\\\\n",
       "\t Jujuy        &   9547      \\\\\n",
       "\t Mendoza      &   8798      \\\\\n",
       "\\end{tabular}\n"
      ],
      "text/markdown": [
       "\n",
       "| residencia_provincia_nombre | Quantity_of_cases |\n",
       "|---|---|\n",
       "| Buenos Aires | 282824       |\n",
       "| CABA         | 100271       |\n",
       "| Santa Fe     |  10806       |\n",
       "| Córdoba      |  10335       |\n",
       "| Jujuy        |   9547       |\n",
       "| Mendoza      |   8798       |\n",
       "\n"
      ],
      "text/plain": [
       "  residencia_provincia_nombre Quantity_of_cases\n",
       "1 Buenos Aires                282824           \n",
       "2 CABA                        100271           \n",
       "3 Santa Fe                     10806           \n",
       "4 Córdoba                      10335           \n",
       "5 Jujuy                         9547           \n",
       "6 Mendoza                       8798           "
      ]
     },
     "metadata": {},
     "output_type": "display_data"
    }
   ],
   "source": [
    "head(confirmed)"
   ]
  },
  {
   "cell_type": "code",
   "execution_count": 13,
   "metadata": {},
   "outputs": [
    {
     "data": {
      "image/png": "[encoded data removed]",
      "text/plain": [
       "plot without title"
      ]
     },
     "metadata": {},
     "output_type": "display_data"
    }
   ],
   "source": [
    "options(repr.plot.width=8, repr.plot.height=4.8)\n",
    "\n",
    "ggplot(confirmed, aes(y= Quantity_of_cases, x = reorder(residencia_provincia_nombre, desc(Quantity_of_cases)))) +\n",
    " geom_col(fill='blue') +\n",
    " scale_y_continuous(labels = scales::comma)+\n",
    " coord_flip() +\n",
    " ggtitle(\"Confirmed cases per Province\")+\n",
    " xlab(\"Province\") +\n",
    " ylab(\"Confirmed Cases Quantity\") "
   ]
  },
  {
   "cell_type": "markdown",
   "metadata": {},
   "source": [
    "### Now we have to take a look if there are any missing information and format the dates."
   ]
  },
  {
   "cell_type": "code",
   "execution_count": 14,
   "metadata": {},
   "outputs": [
    {
     "data": {
      "text/html": [
       "1"
      ],
      "text/latex": [
       "1"
      ],
      "text/markdown": [
       "1"
      ],
      "text/plain": [
       "[1] 1"
      ]
     },
     "metadata": {},
     "output_type": "display_data"
    },
    {
     "data": {
      "text/html": [
       "0"
      ],
      "text/latex": [
       "0"
      ],
      "text/markdown": [
       "0"
      ],
      "text/plain": [
       "[1] 0"
      ]
     },
     "metadata": {},
     "output_type": "display_data"
    }
   ],
   "source": [
    "sum(is.na(covid$fecha_apertura))\n",
    "sum(is.na(covid$clasificacion_resumen))"
   ]
  },
  {
   "cell_type": "markdown",
   "metadata": {},
   "source": [
    "### Let's analyze the \"NA\" value."
   ]
  },
  {
   "cell_type": "code",
   "execution_count": 15,
   "metadata": {},
   "outputs": [
    {
     "data": {
      "text/html": [
       "<table>\n",
       "<thead><tr><th scope=col>id_evento_caso</th><th scope=col>sexo</th><th scope=col>edad</th><th scope=col>edad_años_meses</th><th scope=col>residencia_pais_nombre</th><th scope=col>residencia_provincia_nombre</th><th scope=col>residencia_departamento_nombre</th><th scope=col>carga_provincia_nombre</th><th scope=col>fecha_inicio_sintomas</th><th scope=col>fecha_apertura</th><th scope=col>...</th><th scope=col>fecha_fallecimiento</th><th scope=col>asistencia_respiratoria_mecanica</th><th scope=col>carga_provincia_id</th><th scope=col>origen_financiamiento</th><th scope=col>clasificacion</th><th scope=col>clasificacion_resumen</th><th scope=col>residencia_provincia_id</th><th scope=col>fecha_diagnostico</th><th scope=col>residencia_departamento_id</th><th scope=col>ultima_actualizacion</th></tr></thead>\n",
       "<tbody>\n",
       "\t<tr><td>672064          </td><td>M               </td><td>52              </td><td>Años            </td><td>Argentina       </td><td>Buenos Aires    </td><td>Florencio Varela</td><td>Buenos Aires    </td><td>2020-05-29      </td><td>NA              </td><td>...             </td><td>                </td><td>NO              </td><td>6               </td><td>Público         </td><td>Caso Descartado </td><td>Negative        </td><td>6               </td><td>2020-06-01      </td><td>274             </td><td>2020-09-04      </td></tr>\n",
       "</tbody>\n",
       "</table>\n"
      ],
      "text/latex": [
       "\\begin{tabular}{r|lllllllllllllllllllllllll}\n",
       " id\\_evento\\_caso & sexo & edad & edad\\_años\\_meses & residencia\\_pais\\_nombre & residencia\\_provincia\\_nombre & residencia\\_departamento\\_nombre & carga\\_provincia\\_nombre & fecha\\_inicio\\_sintomas & fecha\\_apertura & ... & fecha\\_fallecimiento & asistencia\\_respiratoria\\_mecanica & carga\\_provincia\\_id & origen\\_financiamiento & clasificacion & clasificacion\\_resumen & residencia\\_provincia\\_id & fecha\\_diagnostico & residencia\\_departamento\\_id & ultima\\_actualizacion\\\\\n",
       "\\hline\n",
       "\t 672064           & M                & 52               & Años             & Argentina        & Buenos Aires     & Florencio Varela & Buenos Aires     & 2020-05-29       & NA               & ...              &                  & NO               & 6                & Público          & Caso Descartado  & Negative         & 6                & 2020-06-01       & 274              & 2020-09-04      \\\\\n",
       "\\end{tabular}\n"
      ],
      "text/markdown": [
       "\n",
       "| id_evento_caso | sexo | edad | edad_años_meses | residencia_pais_nombre | residencia_provincia_nombre | residencia_departamento_nombre | carga_provincia_nombre | fecha_inicio_sintomas | fecha_apertura | ... | fecha_fallecimiento | asistencia_respiratoria_mecanica | carga_provincia_id | origen_financiamiento | clasificacion | clasificacion_resumen | residencia_provincia_id | fecha_diagnostico | residencia_departamento_id | ultima_actualizacion |\n",
       "|---|---|---|---|---|---|---|---|---|---|---|---|---|---|---|---|---|---|---|---|---|\n",
       "| 672064           | M                | 52               | Años             | Argentina        | Buenos Aires     | Florencio Varela | Buenos Aires     | 2020-05-29       | NA               | ...              |                  | NO               | 6                | Público          | Caso Descartado  | Negative         | 6                | 2020-06-01       | 274              | 2020-09-04       |\n",
       "\n"
      ],
      "text/plain": [
       "  id_evento_caso sexo edad edad_años_meses residencia_pais_nombre\n",
       "1 672064         M    52   Años            Argentina             \n",
       "  residencia_provincia_nombre residencia_departamento_nombre\n",
       "1 Buenos Aires                Florencio Varela              \n",
       "  carga_provincia_nombre fecha_inicio_sintomas fecha_apertura ...\n",
       "1 Buenos Aires           2020-05-29            <NA>           ...\n",
       "  fecha_fallecimiento asistencia_respiratoria_mecanica carga_provincia_id\n",
       "1                     NO                               6                 \n",
       "  origen_financiamiento clasificacion   clasificacion_resumen\n",
       "1 Público               Caso Descartado Negative             \n",
       "  residencia_provincia_id fecha_diagnostico residencia_departamento_id\n",
       "1 6                       2020-06-01        274                       \n",
       "  ultima_actualizacion\n",
       "1 2020-09-04          "
      ]
     },
     "metadata": {},
     "output_type": "display_data"
    }
   ],
   "source": [
    "na_value <- covid %>% filter(is.na(covid$fecha_apertura) == TRUE)\n",
    "na_value"
   ]
  },
  {
   "cell_type": "markdown",
   "metadata": {},
   "source": [
    "#### It seems that the value does not follow the structure of the rest of the dataset. "
   ]
  },
  {
   "cell_type": "markdown",
   "metadata": {},
   "source": [
    "### Ok, let's see the evolution of cases through time. "
   ]
  },
  {
   "cell_type": "code",
   "execution_count": 16,
   "metadata": {},
   "outputs": [
    {
     "name": "stderr",
     "output_type": "stream",
     "text": [
      "Warning message:\n",
      "\"Removed 1 rows containing non-finite values (stat_count).\""
     ]
    },
    {
     "data": {
      "image/png": "[encoded data removed]",
      "text/plain": [
       "plot without title"
      ]
     },
     "metadata": {},
     "output_type": "display_data"
    }
   ],
   "source": [
    "options(repr.plot.width=8, repr.plot.height=4.8)\n",
    "\n",
    "ggplot(covid, aes(x = fecha_apertura ,fill = clasificacion_resumen ))+\n",
    "  geom_bar() +\n",
    "  scale_x_date(date_labels = \"%m-%Y\", date_break = \"1 month\" )+\n",
    "  scale_y_continuous(labels = scales::comma)+\n",
    "  ggtitle(\"Tests through time\")+\n",
    "  xlab(\"Month\") +\n",
    "  ylab(\"Quantity of tests\") "
   ]
  },
  {
   "cell_type": "markdown",
   "metadata": {},
   "source": [
    "### Now let's remove the 'Suspicious' cases and take a look again. "
   ]
  },
  {
   "cell_type": "code",
   "execution_count": 17,
   "metadata": {},
   "outputs": [],
   "source": [
    "non_suspicious <- covid %>% filter(clasificacion_resumen != 'Suspicious') "
   ]
  },
  {
   "cell_type": "code",
   "execution_count": 18,
   "metadata": {},
   "outputs": [
    {
     "name": "stderr",
     "output_type": "stream",
     "text": [
      "Warning message:\n",
      "\"Removed 1 rows containing non-finite values (stat_density).\""
     ]
    },
    {
     "data": {
      "image/png": "[encoded data removed]",
      "text/plain": [
       "plot without title"
      ]
     },
     "metadata": {},
     "output_type": "display_data"
    }
   ],
   "source": [
    "options(repr.plot.width=8, repr.plot.height=4.8)\n",
    "\n",
    "ggplot(non_suspicious, aes(x = fecha_apertura ,fill = clasificacion_resumen))+\n",
    "  geom_density(alpha = 0.25) +\n",
    "  facet_grid(clasificacion_resumen ~.)+\n",
    "  scale_x_date(date_labels = \"%m-%Y\", date_break = \"1 month\" )+\n",
    "  scale_y_continuous(breaks = c(0.01, 0.02), labels = c(\"10,000\", \"20,000\"))+\n",
    "  ggtitle(\"Confirmed cases through time\")+\n",
    "  xlab(\"Month\") +\n",
    "  ylab(\"Quantity of cases\") "
   ]
  },
  {
   "cell_type": "markdown",
   "metadata": {},
   "source": [
    "### Let's analyze now the quantity of deaths through time. "
   ]
  },
  {
   "cell_type": "code",
   "execution_count": 19,
   "metadata": {},
   "outputs": [
    {
     "data": {
      "image/png": "[encoded data removed]",
      "text/plain": [
       "plot without title"
      ]
     },
     "metadata": {},
     "output_type": "display_data"
    }
   ],
   "source": [
    "death <- covid %>% filter(fallecido == \"SI\")\n",
    "\n",
    "ggplot(death, aes(x = fecha_apertura ,fill = fallecido))+\n",
    "  geom_density(alpha = 0.75) +\n",
    "  scale_x_date(date_labels = \"%m-%Y\", date_break = \"1 month\" )+\n",
    "  scale_y_continuous(breaks = c(0.0025, 0.005,0.0075,0.01,0.0125), labels = c(\"2,500\",\"5,000\",\"7,500\",\"10,000\",\"12,500\"))+\n",
    "  ggtitle(\"Deaths through time\")+\n",
    "  xlab(\"Month\") +\n",
    "  ylab(\"Quantity of cases\") "
   ]
  },
  {
   "cell_type": "markdown",
   "metadata": {},
   "source": [
    "### And finally, let's see the evolution of ventilators needed through time. "
   ]
  },
  {
   "cell_type": "code",
   "execution_count": 20,
   "metadata": {},
   "outputs": [
    {
     "data": {
      "image/png": "[encoded data removed]",
      "text/plain": [
       "plot without title"
      ]
     },
     "metadata": {},
     "output_type": "display_data"
    }
   ],
   "source": [
    "ventilator <- covid %>% filter(asistencia_respiratoria_mecanica == \"SI\")\n",
    "\n",
    "ggplot(ventilator, aes(x = fecha_apertura ,fill = asistencia_respiratoria_mecanica))+\n",
    "  geom_density(alpha = 0.75) +\n",
    "  scale_x_date(date_labels = \"%m-%Y\", date_break = \"1 month\" )+\n",
    "  scale_y_continuous(breaks = c(0.002, 0.004,0.006,0.008), labels = c(\"2,000\",\"4,000\",\"6,000\",\"8,000\"))+\n",
    "  ggtitle(\"Ventilators needed through time\")+\n",
    "  xlab(\"Month\") +\n",
    "  ylab(\"Quantity of ventilators needed\") +\n",
    "  scale_fill_brewer(palette = \"BuGn\")"
   ]
  },
  {
   "cell_type": "markdown",
   "metadata": {},
   "source": [
    "# Data Preparation"
   ]
  },
  {
   "cell_type": "markdown",
   "metadata": {},
   "source": [
    "### Now we are going to run some classification models in order to predict if people with certain characteristics can survive COVID or if they will not. First of all, let's see if there are any missing values in the category \"fallecido\"."
   ]
  },
  {
   "cell_type": "code",
   "execution_count": 30,
   "metadata": {},
   "outputs": [
    {
     "name": "stdout",
     "output_type": "stream",
     "text": [
      "Observations: 1,339,334\n",
      "Variables: 6\n",
      "$ fallecido                        <chr> \"NO\", \"NO\", \"NO\", \"NO\", \"NO\", \"NO\"...\n",
      "$ sexo                             <chr> \"M\", \"M\", \"F\", \"F\", \"M\", \"M\", \"F\",...\n",
      "$ residencia_provincia_nombre      <chr> \"CABA\", \"Buenos Aires\", \"Córdoba\",...\n",
      "$ origen_financiamiento            <chr> \"Privado\", \"Público\", \"Privado\", \"...\n",
      "$ asistencia_respiratoria_mecanica <chr> \"NO\", \"NO\", \"NO\", \"NO\", \"NO\", \"NO\"...\n",
      "$ edad                             <int> 53, 21, 40, 58, 28, 26, 69, 73, 7,...\n"
     ]
    }
   ],
   "source": [
    "covid_analisis <- covid %>% select('fallecido','sexo','residencia_provincia_nombre','origen_financiamiento',\n",
    "                                   'asistencia_respiratoria_mecanica','edad') \n",
    "glimpse(covid_analisis)"
   ]
  },
  {
   "cell_type": "code",
   "execution_count": 31,
   "metadata": {},
   "outputs": [
    {
     "data": {
      "text/html": [
       "0"
      ],
      "text/latex": [
       "0"
      ],
      "text/markdown": [
       "0"
      ],
      "text/plain": [
       "[1] 0"
      ]
     },
     "metadata": {},
     "output_type": "display_data"
    },
    {
     "data": {
      "text/html": [
       "0"
      ],
      "text/latex": [
       "0"
      ],
      "text/markdown": [
       "0"
      ],
      "text/plain": [
       "[1] 0"
      ]
     },
     "metadata": {},
     "output_type": "display_data"
    },
    {
     "data": {
      "text/html": [
       "0"
      ],
      "text/latex": [
       "0"
      ],
      "text/markdown": [
       "0"
      ],
      "text/plain": [
       "[1] 0"
      ]
     },
     "metadata": {},
     "output_type": "display_data"
    },
    {
     "data": {
      "text/html": [
       "0"
      ],
      "text/latex": [
       "0"
      ],
      "text/markdown": [
       "0"
      ],
      "text/plain": [
       "[1] 0"
      ]
     },
     "metadata": {},
     "output_type": "display_data"
    },
    {
     "data": {
      "text/html": [
       "0"
      ],
      "text/latex": [
       "0"
      ],
      "text/markdown": [
       "0"
      ],
      "text/plain": [
       "[1] 0"
      ]
     },
     "metadata": {},
     "output_type": "display_data"
    },
    {
     "data": {
      "text/html": [
       "1541"
      ],
      "text/latex": [
       "1541"
      ],
      "text/markdown": [
       "1541"
      ],
      "text/plain": [
       "[1] 1541"
      ]
     },
     "metadata": {},
     "output_type": "display_data"
    }
   ],
   "source": [
    "sum(is.na(covid_analisis$fallecido))\n",
    "sum(is.na(covid_analisis$sexo))\n",
    "sum(is.na(covid_analisis$residencia_provincia_nombre ))\n",
    "sum(is.na(covid_analisis$origen_financiamiento))\n",
    "sum(is.na(covid_analisis$asistencia_respiratoria_mecanica))\n",
    "sum(is.na(covid_analisis$edad))\n"
   ]
  },
  {
   "cell_type": "code",
   "execution_count": 34,
   "metadata": {},
   "outputs": [
    {
     "name": "stderr",
     "output_type": "stream",
     "text": [
      "Warning message in mean.default(covid_analisis[, i], na.rm = TRUE):\n",
      "\"argument is not numeric or logical: returning NA\"Warning message in mean.default(covid_analisis[, i], na.rm = TRUE):\n",
      "\"argument is not numeric or logical: returning NA\"Warning message in mean.default(covid_analisis[, i], na.rm = TRUE):\n",
      "\"argument is not numeric or logical: returning NA\"Warning message in mean.default(covid_analisis[, i], na.rm = TRUE):\n",
      "\"argument is not numeric or logical: returning NA\"Warning message in mean.default(covid_analisis[, i], na.rm = TRUE):\n",
      "\"argument is not numeric or logical: returning NA\""
     ]
    }
   ],
   "source": [
    "for(i in 1:ncol(covid_analisis)){\n",
    "  covid_analisis[is.na(covid_analisis[,i]), i] <- mean(covid_analisis[,i], na.rm = TRUE)\n",
    "}"
   ]
  },
  {
   "cell_type": "code",
   "execution_count": 35,
   "metadata": {},
   "outputs": [
    {
     "data": {
      "text/html": [
       "0"
      ],
      "text/latex": [
       "0"
      ],
      "text/markdown": [
       "0"
      ],
      "text/plain": [
       "[1] 0"
      ]
     },
     "metadata": {},
     "output_type": "display_data"
    }
   ],
   "source": [
    "sum(is.na(covid_analisis$edad))\n"
   ]
  },
  {
   "cell_type": "markdown",
   "metadata": {},
   "source": [
    "### Great, there are not missing values. Now let's create dummy variables."
   ]
  },
  {
   "cell_type": "code",
   "execution_count": 58,
   "metadata": {},
   "outputs": [],
   "source": [
    "covid_dummy <- dummy_cols(covid_analisis,  select_columns = c('fallecido','sexo','residencia_provincia_nombre','origen_financiamiento',\n",
    "                                   'asistencia_respiratoria_mecanica') )"
   ]
  },
  {
   "cell_type": "code",
   "execution_count": 59,
   "metadata": {},
   "outputs": [
    {
     "name": "stdout",
     "output_type": "stream",
     "text": [
      "Observations: 1,339,334\n",
      "Variables: 41\n",
      "$ fallecido                                         <chr> \"NO\", \"NO\", \"NO\",...\n",
      "$ sexo                                              <chr> \"M\", \"M\", \"F\", \"F...\n",
      "$ residencia_provincia_nombre                       <chr> \"CABA\", \"Buenos A...\n",
      "$ origen_financiamiento                             <chr> \"Privado\", \"Públi...\n",
      "$ asistencia_respiratoria_mecanica                  <chr> \"NO\", \"NO\", \"NO\",...\n",
      "$ edad                                              <int> 53, 21, 40, 58, 2...\n",
      "$ fallecido_NO                                      <int> 1, 1, 1, 1, 1, 1,...\n",
      "$ fallecido_SI                                      <int> 0, 0, 0, 0, 0, 0,...\n",
      "$ sexo_F                                            <int> 0, 0, 1, 1, 0, 0,...\n",
      "$ sexo_M                                            <int> 1, 1, 0, 0, 1, 1,...\n",
      "$ sexo_NR                                           <int> 0, 0, 0, 0, 0, 0,...\n",
      "$ `residencia_provincia_nombre_Buenos Aires`        <int> 0, 1, 0, 0, 1, 0,...\n",
      "$ residencia_provincia_nombre_CABA                  <int> 1, 0, 0, 0, 0, 0,...\n",
      "$ residencia_provincia_nombre_Catamarca             <int> 0, 0, 0, 0, 0, 0,...\n",
      "$ residencia_provincia_nombre_Chaco                 <int> 0, 0, 0, 0, 0, 0,...\n",
      "$ residencia_provincia_nombre_Chubut                <int> 0, 0, 0, 0, 0, 0,...\n",
      "$ residencia_provincia_nombre_Córdoba               <int> 0, 0, 1, 0, 0, 0,...\n",
      "$ residencia_provincia_nombre_Corrientes            <int> 0, 0, 0, 0, 0, 0,...\n",
      "$ `residencia_provincia_nombre_Entre Ríos`          <int> 0, 0, 0, 0, 0, 0,...\n",
      "$ residencia_provincia_nombre_Formosa               <int> 0, 0, 0, 0, 0, 1,...\n",
      "$ residencia_provincia_nombre_Jujuy                 <int> 0, 0, 0, 0, 0, 0,...\n",
      "$ `residencia_provincia_nombre_La Pampa`            <int> 0, 0, 0, 0, 0, 0,...\n",
      "$ `residencia_provincia_nombre_La Rioja`            <int> 0, 0, 0, 0, 0, 0,...\n",
      "$ residencia_provincia_nombre_Mendoza               <int> 0, 0, 0, 1, 0, 0,...\n",
      "$ residencia_provincia_nombre_Misiones              <int> 0, 0, 0, 0, 0, 0,...\n",
      "$ residencia_provincia_nombre_Neuquén               <int> 0, 0, 0, 0, 0, 0,...\n",
      "$ `residencia_provincia_nombre_Río Negro`           <int> 0, 0, 0, 0, 0, 0,...\n",
      "$ residencia_provincia_nombre_Salta                 <int> 0, 0, 0, 0, 0, 0,...\n",
      "$ `residencia_provincia_nombre_San Juan`            <int> 0, 0, 0, 0, 0, 0,...\n",
      "$ `residencia_provincia_nombre_San Luis`            <int> 0, 0, 0, 0, 0, 0,...\n",
      "$ `residencia_provincia_nombre_Santa Cruz`          <int> 0, 0, 0, 0, 0, 0,...\n",
      "$ `residencia_provincia_nombre_Santa Fe`            <int> 0, 0, 0, 0, 0, 0,...\n",
      "$ `residencia_provincia_nombre_Santiago del Estero` <int> 0, 0, 0, 0, 0, 0,...\n",
      "$ `residencia_provincia_nombre_SIN ESPECIFICAR`     <int> 0, 0, 0, 0, 0, 0,...\n",
      "$ `residencia_provincia_nombre_Tierra del Fuego`    <int> 0, 0, 0, 0, 0, 0,...\n",
      "$ residencia_provincia_nombre_Tucumán               <int> 0, 0, 0, 0, 0, 0,...\n",
      "$ `origen_financiamiento_*sin dato*`                <int> 0, 0, 0, 0, 0, 0,...\n",
      "$ origen_financiamiento_Privado                     <int> 1, 0, 1, 0, 0, 0,...\n",
      "$ origen_financiamiento_Público                     <int> 0, 1, 0, 1, 1, 1,...\n",
      "$ asistencia_respiratoria_mecanica_NO               <int> 1, 1, 1, 1, 1, 1,...\n",
      "$ asistencia_respiratoria_mecanica_SI               <int> 0, 0, 0, 0, 0, 0,...\n"
     ]
    }
   ],
   "source": [
    "covid_dummy$edad <- as.integer(covid_dummy$edad)\n",
    "glimpse(covid_dummy)"
   ]
  },
  {
   "cell_type": "code",
   "execution_count": 56,
   "metadata": {},
   "outputs": [],
   "source": []
  },
  {
   "cell_type": "code",
   "execution_count": 57,
   "metadata": {},
   "outputs": [
    {
     "name": "stdout",
     "output_type": "stream",
     "text": [
      "Observations: 0\n",
      "Variables: 0\n"
     ]
    }
   ],
   "source": []
  },
  {
   "cell_type": "markdown",
   "metadata": {},
   "source": [
    "### Perfect, now it's time to split the datase into train and test."
   ]
  },
  {
   "cell_type": "code",
   "execution_count": 60,
   "metadata": {},
   "outputs": [],
   "source": [
    "# set seed for reproducibility\n",
    "set.seed(123)\n",
    "\n",
    "# making a train index\n",
    "train_index <- sample(c(TRUE, FALSE), replace = TRUE, size = nrow(covid_dummy), prob = c(0.2, 0.8))\n",
    "\n",
    "# split the data according to the train index\n",
    "train <- as.data.frame(covid_dummy[train_index, ])\n",
    "test <- as.data.frame(covid_dummy[!train_index, ])"
   ]
  },
  {
   "cell_type": "code",
   "execution_count": 61,
   "metadata": {},
   "outputs": [
    {
     "data": {
      "text/html": [
       "267988"
      ],
      "text/latex": [
       "267988"
      ],
      "text/markdown": [
       "267988"
      ],
      "text/plain": [
       "[1] 267988"
      ]
     },
     "metadata": {},
     "output_type": "display_data"
    },
    {
     "data": {
      "text/html": [
       "1071346"
      ],
      "text/latex": [
       "1071346"
      ],
      "text/markdown": [
       "1071346"
      ],
      "text/plain": [
       "[1] 1071346"
      ]
     },
     "metadata": {},
     "output_type": "display_data"
    },
    {
     "data": {
      "text/html": [
       "1339334"
      ],
      "text/latex": [
       "1339334"
      ],
      "text/markdown": [
       "1339334"
      ],
      "text/plain": [
       "[1] 1339334"
      ]
     },
     "metadata": {},
     "output_type": "display_data"
    }
   ],
   "source": [
    "nrow(train)\n",
    "nrow(test)\n",
    "sum(nrow(test),nrow(train))"
   ]
  },
  {
   "cell_type": "code",
   "execution_count": 49,
   "metadata": {},
   "outputs": [
    {
     "name": "stderr",
     "output_type": "stream",
     "text": [
      "Warning message in storage.mode(x) <- \"double\":\n",
      "\"NAs introducidos por coerción\""
     ]
    },
    {
     "ename": "ERROR",
     "evalue": "Error in qr.default(object): NA/NaN/Inf en llamada a una función externa (arg 1)\n",
     "output_type": "error",
     "traceback": [
      "Error in qr.default(object): NA/NaN/Inf en llamada a una función externa (arg 1)\nTraceback:\n",
      "1. findLinearCombos(train)",
      "2. enumLC(x)",
      "3. enumLC.matrix(x)",
      "4. internalEnumLC(qr(object))",
      "5. qr.R(qrObj)",
      "6. is.qr(qr)",
      "7. qr(object)",
      "8. qr.default(object)"
     ]
    }
   ],
   "source": [
    "logmod <- glm(target ~ . - id, data = training, family = binomial(link = 'logit'))"
   ]
  },
  {
   "cell_type": "code",
   "execution_count": null,
   "metadata": {},
   "outputs": [],
   "source": []
  },
  {
   "cell_type": "code",
   "execution_count": null,
   "metadata": {},
   "outputs": [],
   "source": []
  }
 ],
 "metadata": {
  "kernelspec": {
   "display_name": "R",
   "language": "R",
   "name": "ir"
  },
  "language_info": {
   "codemirror_mode": "r",
   "file_extension": ".r",
   "mimetype": "text/x-r-source",
   "name": "R",
   "pygments_lexer": "r",
   "version": "3.6.1"
  }
 },
 "nbformat": 4,
 "nbformat_minor": 4
}
